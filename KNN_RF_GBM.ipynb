{
 "cells": [
  {
   "cell_type": "code",
   "execution_count": 1,
   "metadata": {
    "colab": {
     "base_uri": "https://localhost:8080/",
     "height": 51
    },
    "colab_type": "code",
    "id": "5VNy-mwUwcZj",
    "outputId": "0ebb9a1b-2631-4541-85b5-5c2113f23944"
   },
   "outputs": [],
   "source": [
    "\n",
    "import pandas as pd\n",
    "import numpy as np\n",
    "import matplotlib.pyplot as plt\n",
    "import seaborn as sns\n",
    "from sklearn import preprocessing \n",
    "from sklearn.tree import DecisionTreeClassifier\n",
    "from sklearn.ensemble import RandomForestClassifier \n",
    "from sklearn.ensemble import GradientBoostingClassifier \n",
    "from sklearn.naive_bayes import GaussianNB, BernoulliNB, MultinomialNB\n",
    "from sklearn.model_selection import train_test_split, GridSearchCV, ShuffleSplit, StratifiedKFold\n",
    "from sklearn.neighbors import KNeighborsClassifier\n",
    "from sklearn.svm import SVC \n",
    "from sklearn.cluster import KMeans\n",
    "from sklearn import svm \n",
    "from sklearn.metrics import accuracy_score,auc,confusion_matrix,classification_report,precision_score,roc_curve,roc_auc_score,recall_score,f1_score,precision_score\n",
    "from sklearn.preprocessing import RobustScaler,StandardScaler\n",
    "from sklearn import metrics\n",
    "import missingno as mn\n",
    "import math as m\n",
    "%matplotlib inline\n",
    "\n",
    "import warnings\n",
    "warnings.filterwarnings('ignore')\n",
    "sns.set_palette('husl',8)"
   ]
  },
  {
   "cell_type": "code",
   "execution_count": 2,
   "metadata": {
    "colab": {
     "base_uri": "https://localhost:8080/",
     "height": 270
    },
    "colab_type": "code",
    "id": "QKtHyE-swcZp",
    "outputId": "bbf34072-d7cc-434d-d186-9f0b79fe9360"
   },
   "outputs": [
    {
     "data": {
      "text/html": [
       "<div>\n",
       "<style scoped>\n",
       "    .dataframe tbody tr th:only-of-type {\n",
       "        vertical-align: middle;\n",
       "    }\n",
       "\n",
       "    .dataframe tbody tr th {\n",
       "        vertical-align: top;\n",
       "    }\n",
       "\n",
       "    .dataframe thead th {\n",
       "        text-align: right;\n",
       "    }\n",
       "</style>\n",
       "<table border=\"1\" class=\"dataframe\">\n",
       "  <thead>\n",
       "    <tr style=\"text-align: right;\">\n",
       "      <th></th>\n",
       "      <th>VehicleAge</th>\n",
       "      <th>VehOdo</th>\n",
       "      <th>MMRAcqAucAvgPrice</th>\n",
       "      <th>MMRAcqAucCleanPrice</th>\n",
       "      <th>MMRAcqRetailAvgPrice</th>\n",
       "      <th>MMRAcqRetailCleanPrice</th>\n",
       "      <th>MMRCurrAucAvgPrice</th>\n",
       "      <th>MMRCurrAucCleanPrice</th>\n",
       "      <th>MMRCurrRetailAvgPrice</th>\n",
       "      <th>MMRCurrRetailCleanPrice</th>\n",
       "      <th>...</th>\n",
       "      <th>VNST_OH</th>\n",
       "      <th>VNST_OK</th>\n",
       "      <th>VNST_Other</th>\n",
       "      <th>VNST_PA</th>\n",
       "      <th>VNST_SC</th>\n",
       "      <th>VNST_TN</th>\n",
       "      <th>VNST_TX</th>\n",
       "      <th>VNST_UT</th>\n",
       "      <th>VNST_VA</th>\n",
       "      <th>IsOnlineSale_1</th>\n",
       "    </tr>\n",
       "  </thead>\n",
       "  <tbody>\n",
       "    <tr>\n",
       "      <td>0</td>\n",
       "      <td>-0.835237</td>\n",
       "      <td>0.933869</td>\n",
       "      <td>0.247748</td>\n",
       "      <td>0.467221</td>\n",
       "      <td>1.180846</td>\n",
       "      <td>-1.540819</td>\n",
       "      <td>0.238002</td>\n",
       "      <td>0.517241</td>\n",
       "      <td>1.157712</td>\n",
       "      <td>-1.451163</td>\n",
       "      <td>...</td>\n",
       "      <td>0</td>\n",
       "      <td>0</td>\n",
       "      <td>0</td>\n",
       "      <td>0</td>\n",
       "      <td>0</td>\n",
       "      <td>0</td>\n",
       "      <td>0</td>\n",
       "      <td>0</td>\n",
       "      <td>0</td>\n",
       "      <td>0</td>\n",
       "    </tr>\n",
       "    <tr>\n",
       "      <td>1</td>\n",
       "      <td>-1.397633</td>\n",
       "      <td>0.001216</td>\n",
       "      <td>-2.329916</td>\n",
       "      <td>-1.857212</td>\n",
       "      <td>-0.948669</td>\n",
       "      <td>-0.476310</td>\n",
       "      <td>-2.392786</td>\n",
       "      <td>-1.889322</td>\n",
       "      <td>-0.865514</td>\n",
       "      <td>-0.432913</td>\n",
       "      <td>...</td>\n",
       "      <td>0</td>\n",
       "      <td>0</td>\n",
       "      <td>0</td>\n",
       "      <td>0</td>\n",
       "      <td>0</td>\n",
       "      <td>0</td>\n",
       "      <td>0</td>\n",
       "      <td>0</td>\n",
       "      <td>0</td>\n",
       "      <td>0</td>\n",
       "    </tr>\n",
       "    <tr>\n",
       "      <td>2</td>\n",
       "      <td>-0.272842</td>\n",
       "      <td>0.507239</td>\n",
       "      <td>0.008406</td>\n",
       "      <td>0.403070</td>\n",
       "      <td>1.102331</td>\n",
       "      <td>-1.462966</td>\n",
       "      <td>0.197271</td>\n",
       "      <td>0.713916</td>\n",
       "      <td>1.275992</td>\n",
       "      <td>-1.175948</td>\n",
       "      <td>...</td>\n",
       "      <td>0</td>\n",
       "      <td>0</td>\n",
       "      <td>0</td>\n",
       "      <td>0</td>\n",
       "      <td>0</td>\n",
       "      <td>0</td>\n",
       "      <td>0</td>\n",
       "      <td>0</td>\n",
       "      <td>0</td>\n",
       "      <td>0</td>\n",
       "    </tr>\n",
       "    <tr>\n",
       "      <td>3</td>\n",
       "      <td>-0.272842</td>\n",
       "      <td>-1.187359</td>\n",
       "      <td>0.377304</td>\n",
       "      <td>0.703008</td>\n",
       "      <td>1.219726</td>\n",
       "      <td>-1.408558</td>\n",
       "      <td>0.758929</td>\n",
       "      <td>0.916880</td>\n",
       "      <td>-1.700088</td>\n",
       "      <td>-1.238415</td>\n",
       "      <td>...</td>\n",
       "      <td>0</td>\n",
       "      <td>0</td>\n",
       "      <td>0</td>\n",
       "      <td>0</td>\n",
       "      <td>0</td>\n",
       "      <td>0</td>\n",
       "      <td>0</td>\n",
       "      <td>0</td>\n",
       "      <td>0</td>\n",
       "      <td>0</td>\n",
       "    </tr>\n",
       "    <tr>\n",
       "      <td>4</td>\n",
       "      <td>-0.272842</td>\n",
       "      <td>1.122523</td>\n",
       "      <td>1.279150</td>\n",
       "      <td>-2.076962</td>\n",
       "      <td>1.249264</td>\n",
       "      <td>-1.091837</td>\n",
       "      <td>1.740330</td>\n",
       "      <td>-1.758671</td>\n",
       "      <td>-1.618437</td>\n",
       "      <td>-0.783495</td>\n",
       "      <td>...</td>\n",
       "      <td>0</td>\n",
       "      <td>0</td>\n",
       "      <td>0</td>\n",
       "      <td>0</td>\n",
       "      <td>0</td>\n",
       "      <td>0</td>\n",
       "      <td>0</td>\n",
       "      <td>0</td>\n",
       "      <td>0</td>\n",
       "      <td>0</td>\n",
       "    </tr>\n",
       "  </tbody>\n",
       "</table>\n",
       "<p>5 rows × 102 columns</p>\n",
       "</div>"
      ],
      "text/plain": [
       "   VehicleAge    VehOdo  MMRAcqAucAvgPrice  MMRAcqAucCleanPrice  \\\n",
       "0   -0.835237  0.933869           0.247748             0.467221   \n",
       "1   -1.397633  0.001216          -2.329916            -1.857212   \n",
       "2   -0.272842  0.507239           0.008406             0.403070   \n",
       "3   -0.272842 -1.187359           0.377304             0.703008   \n",
       "4   -0.272842  1.122523           1.279150            -2.076962   \n",
       "\n",
       "   MMRAcqRetailAvgPrice  MMRAcqRetailCleanPrice  MMRCurrAucAvgPrice  \\\n",
       "0              1.180846               -1.540819            0.238002   \n",
       "1             -0.948669               -0.476310           -2.392786   \n",
       "2              1.102331               -1.462966            0.197271   \n",
       "3              1.219726               -1.408558            0.758929   \n",
       "4              1.249264               -1.091837            1.740330   \n",
       "\n",
       "   MMRCurrAucCleanPrice  MMRCurrRetailAvgPrice  MMRCurrRetailCleanPrice  ...  \\\n",
       "0              0.517241               1.157712                -1.451163  ...   \n",
       "1             -1.889322              -0.865514                -0.432913  ...   \n",
       "2              0.713916               1.275992                -1.175948  ...   \n",
       "3              0.916880              -1.700088                -1.238415  ...   \n",
       "4             -1.758671              -1.618437                -0.783495  ...   \n",
       "\n",
       "   VNST_OH  VNST_OK  VNST_Other  VNST_PA  VNST_SC  VNST_TN  VNST_TX  VNST_UT  \\\n",
       "0        0        0           0        0        0        0        0        0   \n",
       "1        0        0           0        0        0        0        0        0   \n",
       "2        0        0           0        0        0        0        0        0   \n",
       "3        0        0           0        0        0        0        0        0   \n",
       "4        0        0           0        0        0        0        0        0   \n",
       "\n",
       "   VNST_VA  IsOnlineSale_1  \n",
       "0        0               0  \n",
       "1        0               0  \n",
       "2        0               0  \n",
       "3        0               0  \n",
       "4        0               0  \n",
       "\n",
       "[5 rows x 102 columns]"
      ]
     },
     "execution_count": 2,
     "metadata": {},
     "output_type": "execute_result"
    }
   ],
   "source": [
    "car_train = pd.read_csv(\"Balanced_Train.csv\")\n",
    "car_train.head()"
   ]
  },
  {
   "cell_type": "code",
   "execution_count": 3,
   "metadata": {
    "colab": {
     "base_uri": "https://localhost:8080/",
     "height": 604
    },
    "colab_type": "code",
    "id": "nIa0R1qYwcZv",
    "outputId": "2e491689-c765-4ded-9242-c31cde0c06a8"
   },
   "outputs": [
    {
     "data": {
      "image/png": "[encoded data removed]",
      "text/plain": [
       "<Figure size 1800x720 with 2 Axes>"
      ]
     },
     "metadata": {
      "needs_background": "light"
     },
     "output_type": "display_data"
    }
   ],
   "source": [
    "mn.matrix(car_train,color=(0.3,0.4,0.5))\n",
    "plt.title('Missing values in each attribute',fontsize=20)\n",
    "plt.show()"
   ]
  },
  {
   "cell_type": "code",
   "execution_count": 4,
   "metadata": {
    "colab": {
     "base_uri": "https://localhost:8080/",
     "height": 270
    },
    "colab_type": "code",
    "id": "h_DRFhsLwcZ0",
    "outputId": "1f53917e-3fbc-4388-f177-8e545f2a71eb"
   },
   "outputs": [
    {
     "data": {
      "text/html": [
       "<div>\n",
       "<style scoped>\n",
       "    .dataframe tbody tr th:only-of-type {\n",
       "        vertical-align: middle;\n",
       "    }\n",
       "\n",
       "    .dataframe tbody tr th {\n",
       "        vertical-align: top;\n",
       "    }\n",
       "\n",
       "    .dataframe thead th {\n",
       "        text-align: right;\n",
       "    }\n",
       "</style>\n",
       "<table border=\"1\" class=\"dataframe\">\n",
       "  <thead>\n",
       "    <tr style=\"text-align: right;\">\n",
       "      <th></th>\n",
       "      <th>VehicleAge</th>\n",
       "      <th>VehOdo</th>\n",
       "      <th>MMRAcqAucAvgPrice</th>\n",
       "      <th>MMRAcqAucCleanPrice</th>\n",
       "      <th>MMRAcqRetailAvgPrice</th>\n",
       "      <th>MMRAcqRetailCleanPrice</th>\n",
       "      <th>MMRCurrAucAvgPrice</th>\n",
       "      <th>MMRCurrAucCleanPrice</th>\n",
       "      <th>MMRCurrRetailAvgPrice</th>\n",
       "      <th>MMRCurrRetailCleanPrice</th>\n",
       "      <th>...</th>\n",
       "      <th>VNST_OH</th>\n",
       "      <th>VNST_OK</th>\n",
       "      <th>VNST_Other</th>\n",
       "      <th>VNST_PA</th>\n",
       "      <th>VNST_SC</th>\n",
       "      <th>VNST_TN</th>\n",
       "      <th>VNST_TX</th>\n",
       "      <th>VNST_UT</th>\n",
       "      <th>VNST_VA</th>\n",
       "      <th>IsOnlineSale_1</th>\n",
       "    </tr>\n",
       "  </thead>\n",
       "  <tbody>\n",
       "    <tr>\n",
       "      <td>0</td>\n",
       "      <td>1.053821</td>\n",
       "      <td>0.044405</td>\n",
       "      <td>-1.312343</td>\n",
       "      <td>-0.764367</td>\n",
       "      <td>0.229016</td>\n",
       "      <td>0.927131</td>\n",
       "      <td>-1.376007</td>\n",
       "      <td>-0.919087</td>\n",
       "      <td>0.144285</td>\n",
       "      <td>0.528002</td>\n",
       "      <td>...</td>\n",
       "      <td>0</td>\n",
       "      <td>0</td>\n",
       "      <td>0</td>\n",
       "      <td>0</td>\n",
       "      <td>0</td>\n",
       "      <td>0</td>\n",
       "      <td>0</td>\n",
       "      <td>0</td>\n",
       "      <td>0</td>\n",
       "      <td>0</td>\n",
       "    </tr>\n",
       "    <tr>\n",
       "      <td>1</td>\n",
       "      <td>1.633295</td>\n",
       "      <td>-1.162048</td>\n",
       "      <td>-1.346205</td>\n",
       "      <td>-0.797326</td>\n",
       "      <td>0.186271</td>\n",
       "      <td>0.680918</td>\n",
       "      <td>-0.886876</td>\n",
       "      <td>-0.385879</td>\n",
       "      <td>0.467927</td>\n",
       "      <td>0.926569</td>\n",
       "      <td>...</td>\n",
       "      <td>0</td>\n",
       "      <td>0</td>\n",
       "      <td>0</td>\n",
       "      <td>0</td>\n",
       "      <td>0</td>\n",
       "      <td>0</td>\n",
       "      <td>0</td>\n",
       "      <td>0</td>\n",
       "      <td>0</td>\n",
       "      <td>0</td>\n",
       "    </tr>\n",
       "    <tr>\n",
       "      <td>2</td>\n",
       "      <td>0.474346</td>\n",
       "      <td>1.832012</td>\n",
       "      <td>-1.288804</td>\n",
       "      <td>-0.570569</td>\n",
       "      <td>0.320122</td>\n",
       "      <td>0.892145</td>\n",
       "      <td>-1.247841</td>\n",
       "      <td>-0.667713</td>\n",
       "      <td>0.413946</td>\n",
       "      <td>1.203754</td>\n",
       "      <td>...</td>\n",
       "      <td>0</td>\n",
       "      <td>0</td>\n",
       "      <td>0</td>\n",
       "      <td>0</td>\n",
       "      <td>0</td>\n",
       "      <td>0</td>\n",
       "      <td>0</td>\n",
       "      <td>0</td>\n",
       "      <td>0</td>\n",
       "      <td>0</td>\n",
       "    </tr>\n",
       "    <tr>\n",
       "      <td>3</td>\n",
       "      <td>0.474346</td>\n",
       "      <td>-1.332571</td>\n",
       "      <td>-1.155008</td>\n",
       "      <td>-0.655603</td>\n",
       "      <td>0.526517</td>\n",
       "      <td>0.859345</td>\n",
       "      <td>-0.948648</td>\n",
       "      <td>-0.389896</td>\n",
       "      <td>0.558469</td>\n",
       "      <td>1.070526</td>\n",
       "      <td>...</td>\n",
       "      <td>0</td>\n",
       "      <td>0</td>\n",
       "      <td>0</td>\n",
       "      <td>0</td>\n",
       "      <td>0</td>\n",
       "      <td>0</td>\n",
       "      <td>0</td>\n",
       "      <td>0</td>\n",
       "      <td>0</td>\n",
       "      <td>0</td>\n",
       "    </tr>\n",
       "    <tr>\n",
       "      <td>4</td>\n",
       "      <td>0.474346</td>\n",
       "      <td>-0.418965</td>\n",
       "      <td>0.753655</td>\n",
       "      <td>0.995968</td>\n",
       "      <td>-1.297327</td>\n",
       "      <td>-0.790018</td>\n",
       "      <td>1.020901</td>\n",
       "      <td>-2.263320</td>\n",
       "      <td>-1.137281</td>\n",
       "      <td>-0.259518</td>\n",
       "      <td>...</td>\n",
       "      <td>0</td>\n",
       "      <td>0</td>\n",
       "      <td>0</td>\n",
       "      <td>0</td>\n",
       "      <td>0</td>\n",
       "      <td>0</td>\n",
       "      <td>0</td>\n",
       "      <td>0</td>\n",
       "      <td>0</td>\n",
       "      <td>0</td>\n",
       "    </tr>\n",
       "  </tbody>\n",
       "</table>\n",
       "<p>5 rows × 102 columns</p>\n",
       "</div>"
      ],
      "text/plain": [
       "   VehicleAge    VehOdo  MMRAcqAucAvgPrice  MMRAcqAucCleanPrice  \\\n",
       "0    1.053821  0.044405          -1.312343            -0.764367   \n",
       "1    1.633295 -1.162048          -1.346205            -0.797326   \n",
       "2    0.474346  1.832012          -1.288804            -0.570569   \n",
       "3    0.474346 -1.332571          -1.155008            -0.655603   \n",
       "4    0.474346 -0.418965           0.753655             0.995968   \n",
       "\n",
       "   MMRAcqRetailAvgPrice  MMRAcqRetailCleanPrice  MMRCurrAucAvgPrice  \\\n",
       "0              0.229016                0.927131           -1.376007   \n",
       "1              0.186271                0.680918           -0.886876   \n",
       "2              0.320122                0.892145           -1.247841   \n",
       "3              0.526517                0.859345           -0.948648   \n",
       "4             -1.297327               -0.790018            1.020901   \n",
       "\n",
       "   MMRCurrAucCleanPrice  MMRCurrRetailAvgPrice  MMRCurrRetailCleanPrice  ...  \\\n",
       "0             -0.919087               0.144285                 0.528002  ...   \n",
       "1             -0.385879               0.467927                 0.926569  ...   \n",
       "2             -0.667713               0.413946                 1.203754  ...   \n",
       "3             -0.389896               0.558469                 1.070526  ...   \n",
       "4             -2.263320              -1.137281                -0.259518  ...   \n",
       "\n",
       "   VNST_OH  VNST_OK  VNST_Other  VNST_PA  VNST_SC  VNST_TN  VNST_TX  VNST_UT  \\\n",
       "0        0        0           0        0        0        0        0        0   \n",
       "1        0        0           0        0        0        0        0        0   \n",
       "2        0        0           0        0        0        0        0        0   \n",
       "3        0        0           0        0        0        0        0        0   \n",
       "4        0        0           0        0        0        0        0        0   \n",
       "\n",
       "   VNST_VA  IsOnlineSale_1  \n",
       "0        0               0  \n",
       "1        0               0  \n",
       "2        0               0  \n",
       "3        0               0  \n",
       "4        0               0  \n",
       "\n",
       "[5 rows x 102 columns]"
      ]
     },
     "execution_count": 4,
     "metadata": {},
     "output_type": "execute_result"
    }
   ],
   "source": [
    "car_test = pd.read_csv(\"Balanced_Test.csv\")\n",
    "car_test.head()"
   ]
  },
  {
   "cell_type": "code",
   "execution_count": 5,
   "metadata": {
    "colab": {
     "base_uri": "https://localhost:8080/",
     "height": 604
    },
    "colab_type": "code",
    "id": "JMWsuU8ywcZ4",
    "outputId": "8c41f400-c1ab-46b2-82e9-f1ba9f72de88"
   },
   "outputs": [
    {
     "data": {
      "image/png": "[encoded data removed]",
      "text/plain": [
       "<Figure size 1800x720 with 2 Axes>"
      ]
     },
     "metadata": {
      "needs_background": "light"
     },
     "output_type": "display_data"
    }
   ],
   "source": [
    "mn.matrix(car_test,color=(0.3,0.4,0.5))\n",
    "plt.title('Missing values in each attribute',fontsize=20)\n",
    "plt.show()"
   ]
  },
  {
   "cell_type": "markdown",
   "metadata": {
    "colab_type": "text",
    "id": "77ZF5SFlYf2T"
   },
   "source": [
    "### Random Forest"
   ]
  },
  {
   "cell_type": "code",
   "execution_count": 0,
   "metadata": {
    "colab": {},
    "colab_type": "code",
    "id": "f-nbjoxIwcZ-"
   },
   "outputs": [],
   "source": [
    "y_train_RF = car_train['IsBadBuy_1']\n",
    "X_train_RF = car_train.drop(columns=['IsBadBuy_1'])\n",
    "y_test_RF = car_test['IsBadBuy_1']\n",
    "X_test_RF = car_test.drop(columns=['IsBadBuy_1'])"
   ]
  },
  {
   "cell_type": "code",
   "execution_count": 0,
   "metadata": {
    "colab": {},
    "colab_type": "code",
    "id": "jSGIh5ESwcaB"
   },
   "outputs": [],
   "source": [
    "rf_clf = RandomForestClassifier(random_state=69)\n",
    "rf_claf = rf_clf.fit(X_train_RF,y_train_RF)"
   ]
  },
  {
   "cell_type": "code",
   "execution_count": 0,
   "metadata": {
    "colab": {
     "base_uri": "https://localhost:8080/",
     "height": 34
    },
    "colab_type": "code",
    "id": "L_yPm73iwcaE",
    "outputId": "32911fac-c075-4073-c460-25da53f53dff"
   },
   "outputs": [
    {
     "data": {
      "text/plain": [
       "0.7624691696355166"
      ]
     },
     "execution_count": 10,
     "metadata": {
      "tags": []
     },
     "output_type": "execute_result"
    }
   ],
   "source": [
    "y_pred_RF = rf_claf.predict(X_test_RF)\n",
    "metrics.accuracy_score(y_test_RF,y_pred_RF)"
   ]
  },
  {
   "cell_type": "code",
   "execution_count": 0,
   "metadata": {
    "colab": {
     "base_uri": "https://localhost:8080/",
     "height": 168
    },
    "colab_type": "code",
    "id": "-E-EydU1wcaH",
    "outputId": "b08b4cfe-3c3b-40b6-b0ef-8ba785bd5bdb"
   },
   "outputs": [
    {
     "name": "stdout",
     "output_type": "stream",
     "text": [
      "              precision    recall  f1-score   support\n",
      "\n",
      "           0       0.92      0.80      0.85     12780\n",
      "           1       0.26      0.50      0.34      1816\n",
      "\n",
      "    accuracy                           0.76     14596\n",
      "   macro avg       0.59      0.65      0.60     14596\n",
      "weighted avg       0.84      0.76      0.79     14596\n",
      "\n"
     ]
    }
   ],
   "source": [
    "print(classification_report(y_test_RF,y_pred_RF))"
   ]
  },
  {
   "cell_type": "code",
   "execution_count": 0,
   "metadata": {
    "colab": {
     "base_uri": "https://localhost:8080/",
     "height": 136
    },
    "colab_type": "code",
    "id": "Du6eer1rwcaJ",
    "outputId": "d57de8c3-a40b-4104-9ea3-664dcbefcef4"
   },
   "outputs": [
    {
     "data": {
      "text/html": [
       "<div>\n",
       "<style scoped>\n",
       "    .dataframe tbody tr th:only-of-type {\n",
       "        vertical-align: middle;\n",
       "    }\n",
       "\n",
       "    .dataframe tbody tr th {\n",
       "        vertical-align: top;\n",
       "    }\n",
       "\n",
       "    .dataframe thead th {\n",
       "        text-align: right;\n",
       "    }\n",
       "</style>\n",
       "<table border=\"1\" class=\"dataframe\">\n",
       "  <thead>\n",
       "    <tr style=\"text-align: right;\">\n",
       "      <th>col_0</th>\n",
       "      <th>0</th>\n",
       "      <th>1</th>\n",
       "    </tr>\n",
       "    <tr>\n",
       "      <th>IsBadBuy_1</th>\n",
       "      <th></th>\n",
       "      <th></th>\n",
       "    </tr>\n",
       "  </thead>\n",
       "  <tbody>\n",
       "    <tr>\n",
       "      <th>0</th>\n",
       "      <td>10220</td>\n",
       "      <td>2560</td>\n",
       "    </tr>\n",
       "    <tr>\n",
       "      <th>1</th>\n",
       "      <td>907</td>\n",
       "      <td>909</td>\n",
       "    </tr>\n",
       "  </tbody>\n",
       "</table>\n",
       "</div>"
      ],
      "text/plain": [
       "col_0           0     1\n",
       "IsBadBuy_1             \n",
       "0           10220  2560\n",
       "1             907   909"
      ]
     },
     "execution_count": 12,
     "metadata": {
      "tags": []
     },
     "output_type": "execute_result"
    }
   ],
   "source": [
    "pd.crosstab(y_test_RF,y_pred_RF)"
   ]
  },
  {
   "cell_type": "code",
   "execution_count": 0,
   "metadata": {
    "colab": {
     "base_uri": "https://localhost:8080/",
     "height": 420
    },
    "colab_type": "code",
    "id": "FPt8MMz2wcaL",
    "outputId": "b86366e1-a9d9-459e-d99e-1f6a6231db6f"
   },
   "outputs": [
    {
     "name": "stdout",
     "output_type": "stream",
     "text": [
      "Fitting 3 folds for each of 16 candidates, totalling 48 fits\n"
     ]
    },
    {
     "name": "stderr",
     "output_type": "stream",
     "text": [
      "[Parallel(n_jobs=4)]: Using backend LokyBackend with 4 concurrent workers.\n",
      "[Parallel(n_jobs=4)]: Done  17 tasks      | elapsed:  3.5min\n",
      "[Parallel(n_jobs=4)]: Done  48 out of  48 | elapsed: 12.9min finished\n"
     ]
    },
    {
     "data": {
      "text/plain": [
       "GridSearchCV(cv=3, error_score=nan,\n",
       "             estimator=RandomForestClassifier(bootstrap=True, ccp_alpha=0.0,\n",
       "                                              class_weight=None,\n",
       "                                              criterion='gini', max_depth=None,\n",
       "                                              max_features='auto',\n",
       "                                              max_leaf_nodes=None,\n",
       "                                              max_samples=None,\n",
       "                                              min_impurity_decrease=0.0,\n",
       "                                              min_impurity_split=None,\n",
       "                                              min_samples_leaf=1,\n",
       "                                              min_samples_split=2,\n",
       "                                              min_weight_fraction_leaf=0.0,\n",
       "                                              n_estimators=100, n_jobs=None,\n",
       "                                              oob_score=False, random_state=69,\n",
       "                                              verbose=0, warm_start=False),\n",
       "             iid='deprecated', n_jobs=4,\n",
       "             param_grid={'max_features': [6, 9, 12, 15],\n",
       "                         'n_estimators': [300, 600, 900, 1200]},\n",
       "             pre_dispatch='2*n_jobs', refit=True, return_train_score=False,\n",
       "             scoring='accuracy', verbose=4)"
      ]
     },
     "execution_count": 8,
     "metadata": {
      "tags": []
     },
     "output_type": "execute_result"
    }
   ],
   "source": [
    "param_grid = {'n_estimators': [300,600,900,1200],\n",
    "             'max_features': [6,9,12,15]} \n",
    "\n",
    "grid_RF = GridSearchCV(rf_clf, param_grid, cv=3, scoring='accuracy',verbose=4,n_jobs=4)\n",
    "grid_RF.fit(X_train_RF,y_train_RF)"
   ]
  },
  {
   "cell_type": "code",
   "execution_count": 0,
   "metadata": {
    "colab": {
     "base_uri": "https://localhost:8080/",
     "height": 34
    },
    "colab_type": "code",
    "id": "Z3gdvOcoH3ul",
    "outputId": "7470ff25-4eed-4999-e52f-67d0854f92f5"
   },
   "outputs": [
    {
     "data": {
      "text/plain": [
       "{'max_features': 12, 'n_estimators': 900}"
      ]
     },
     "execution_count": 9,
     "metadata": {
      "tags": []
     },
     "output_type": "execute_result"
    }
   ],
   "source": [
    "grid_RF.best_params_"
   ]
  },
  {
   "cell_type": "code",
   "execution_count": 0,
   "metadata": {
    "colab": {
     "base_uri": "https://localhost:8080/",
     "height": 34
    },
    "colab_type": "code",
    "id": "bXccgrCuH8dM",
    "outputId": "027dd2dc-8ec0-4401-c6f3-b25a177bf046"
   },
   "outputs": [
    {
     "data": {
      "text/plain": [
       "0.6418754014129737"
      ]
     },
     "execution_count": 10,
     "metadata": {
      "tags": []
     },
     "output_type": "execute_result"
    }
   ],
   "source": [
    "grid_RF.best_score_"
   ]
  },
  {
   "cell_type": "code",
   "execution_count": 0,
   "metadata": {
    "colab": {
     "base_uri": "https://localhost:8080/",
     "height": 420
    },
    "colab_type": "code",
    "id": "ppJSJA_axTju",
    "outputId": "e2426b29-fddb-4bae-ad37-f786d5d4483c"
   },
   "outputs": [
    {
     "data": {
      "text/plain": [
       "[[400, 6, 0.83, 0.43, 0.741],\n",
       " [400, 9, 0.8, 0.47, 0.733],\n",
       " [400, 12, 0.76, 0.51, 0.723],\n",
       " [400, 15, 0.74, 0.54, 0.716],\n",
       " [500, 6, 0.83, 0.43, 0.742],\n",
       " [500, 9, 0.82, 0.45, 0.737],\n",
       " [500, 12, 0.78, 0.49, 0.727],\n",
       " [500, 15, 0.73, 0.54, 0.711],\n",
       " [600, 6, 0.83, 0.43, 0.744],\n",
       " [600, 9, 0.81, 0.46, 0.736],\n",
       " [600, 12, 0.78, 0.5, 0.728],\n",
       " [600, 15, 0.73, 0.54, 0.714],\n",
       " [700, 6, 0.83, 0.43, 0.742],\n",
       " [700, 9, 0.81, 0.46, 0.735],\n",
       " [700, 12, 0.79, 0.48, 0.728],\n",
       " [700, 15, 0.72, 0.56, 0.712],\n",
       " [800, 6, 0.83, 0.43, 0.741],\n",
       " [800, 9, 0.81, 0.46, 0.735],\n",
       " [800, 12, 0.77, 0.51, 0.725],\n",
       " [800, 15, 0.73, 0.54, 0.715],\n",
       " [900, 6, 0.83, 0.43, 0.742],\n",
       " [900, 9, 0.81, 0.46, 0.738],\n",
       " [900, 12, 0.78, 0.5, 0.725],\n",
       " [900, 15, 0.73, 0.55, 0.716]]"
      ]
     },
     "execution_count": 20,
     "metadata": {
      "tags": []
     },
     "output_type": "execute_result"
    }
   ],
   "source": [
    "neighbors = [400,500,600,700,800,900]\n",
    "maxfeatures = [6,9,12,15]\n",
    "l = []\n",
    "for i in neighbors:\n",
    "  for j in maxfeatures:\n",
    "    rf_clf_best = RandomForestClassifier(max_features = j , n_estimators = i)\n",
    "    rf_claf_best = rf_clf_best.fit(X_train_RF,y_train_RF)\n",
    "    y_pred_RF_best = rf_claf_best.predict(X_test_RF)\n",
    "    best_probs_RF = rf_claf_best.predict_proba(X_test_RF)\n",
    "    l.append([i,j,round(accuracy_score(y_test_RF,y_pred_RF_best),2),round(recall_score(y_test_RF,y_pred_RF_best),2),\n",
    "              round(roc_auc_score(y_test_RF, best_probs_RF[:,1]),3)])\n",
    "  \n",
    "l"
   ]
  },
  {
   "cell_type": "code",
   "execution_count": 0,
   "metadata": {
    "colab": {
     "base_uri": "https://localhost:8080/",
     "height": 758
    },
    "colab_type": "code",
    "id": "3KFe5c4b_jYm",
    "outputId": "94914326-fa49-467e-fa6f-3dba4faa29ea"
   },
   "outputs": [
    {
     "data": {
      "text/html": [
       "<div>\n",
       "<style scoped>\n",
       "    .dataframe tbody tr th:only-of-type {\n",
       "        vertical-align: middle;\n",
       "    }\n",
       "\n",
       "    .dataframe tbody tr th {\n",
       "        vertical-align: top;\n",
       "    }\n",
       "\n",
       "    .dataframe thead th {\n",
       "        text-align: right;\n",
       "    }\n",
       "</style>\n",
       "<table border=\"1\" class=\"dataframe\">\n",
       "  <thead>\n",
       "    <tr style=\"text-align: right;\">\n",
       "      <th></th>\n",
       "      <th>nTrees</th>\n",
       "      <th>maxFeatures</th>\n",
       "      <th>Accuracy</th>\n",
       "      <th>Recall</th>\n",
       "      <th>AUC Score</th>\n",
       "    </tr>\n",
       "  </thead>\n",
       "  <tbody>\n",
       "    <tr>\n",
       "      <th>0</th>\n",
       "      <td>400</td>\n",
       "      <td>6</td>\n",
       "      <td>0.83</td>\n",
       "      <td>0.43</td>\n",
       "      <td>0.741</td>\n",
       "    </tr>\n",
       "    <tr>\n",
       "      <th>1</th>\n",
       "      <td>400</td>\n",
       "      <td>9</td>\n",
       "      <td>0.80</td>\n",
       "      <td>0.47</td>\n",
       "      <td>0.733</td>\n",
       "    </tr>\n",
       "    <tr>\n",
       "      <th>2</th>\n",
       "      <td>400</td>\n",
       "      <td>12</td>\n",
       "      <td>0.76</td>\n",
       "      <td>0.51</td>\n",
       "      <td>0.723</td>\n",
       "    </tr>\n",
       "    <tr>\n",
       "      <th>3</th>\n",
       "      <td>400</td>\n",
       "      <td>15</td>\n",
       "      <td>0.74</td>\n",
       "      <td>0.54</td>\n",
       "      <td>0.716</td>\n",
       "    </tr>\n",
       "    <tr>\n",
       "      <th>4</th>\n",
       "      <td>500</td>\n",
       "      <td>6</td>\n",
       "      <td>0.83</td>\n",
       "      <td>0.43</td>\n",
       "      <td>0.742</td>\n",
       "    </tr>\n",
       "    <tr>\n",
       "      <th>5</th>\n",
       "      <td>500</td>\n",
       "      <td>9</td>\n",
       "      <td>0.82</td>\n",
       "      <td>0.45</td>\n",
       "      <td>0.737</td>\n",
       "    </tr>\n",
       "    <tr>\n",
       "      <th>6</th>\n",
       "      <td>500</td>\n",
       "      <td>12</td>\n",
       "      <td>0.78</td>\n",
       "      <td>0.49</td>\n",
       "      <td>0.727</td>\n",
       "    </tr>\n",
       "    <tr>\n",
       "      <th>7</th>\n",
       "      <td>500</td>\n",
       "      <td>15</td>\n",
       "      <td>0.73</td>\n",
       "      <td>0.54</td>\n",
       "      <td>0.711</td>\n",
       "    </tr>\n",
       "    <tr>\n",
       "      <th>8</th>\n",
       "      <td>600</td>\n",
       "      <td>6</td>\n",
       "      <td>0.83</td>\n",
       "      <td>0.43</td>\n",
       "      <td>0.744</td>\n",
       "    </tr>\n",
       "    <tr>\n",
       "      <th>9</th>\n",
       "      <td>600</td>\n",
       "      <td>9</td>\n",
       "      <td>0.81</td>\n",
       "      <td>0.46</td>\n",
       "      <td>0.736</td>\n",
       "    </tr>\n",
       "    <tr>\n",
       "      <th>10</th>\n",
       "      <td>600</td>\n",
       "      <td>12</td>\n",
       "      <td>0.78</td>\n",
       "      <td>0.50</td>\n",
       "      <td>0.728</td>\n",
       "    </tr>\n",
       "    <tr>\n",
       "      <th>11</th>\n",
       "      <td>600</td>\n",
       "      <td>15</td>\n",
       "      <td>0.73</td>\n",
       "      <td>0.54</td>\n",
       "      <td>0.714</td>\n",
       "    </tr>\n",
       "    <tr>\n",
       "      <th>12</th>\n",
       "      <td>700</td>\n",
       "      <td>6</td>\n",
       "      <td>0.83</td>\n",
       "      <td>0.43</td>\n",
       "      <td>0.742</td>\n",
       "    </tr>\n",
       "    <tr>\n",
       "      <th>13</th>\n",
       "      <td>700</td>\n",
       "      <td>9</td>\n",
       "      <td>0.81</td>\n",
       "      <td>0.46</td>\n",
       "      <td>0.735</td>\n",
       "    </tr>\n",
       "    <tr>\n",
       "      <th>14</th>\n",
       "      <td>700</td>\n",
       "      <td>12</td>\n",
       "      <td>0.79</td>\n",
       "      <td>0.48</td>\n",
       "      <td>0.728</td>\n",
       "    </tr>\n",
       "    <tr>\n",
       "      <th>15</th>\n",
       "      <td>700</td>\n",
       "      <td>15</td>\n",
       "      <td>0.72</td>\n",
       "      <td>0.56</td>\n",
       "      <td>0.712</td>\n",
       "    </tr>\n",
       "    <tr>\n",
       "      <th>16</th>\n",
       "      <td>800</td>\n",
       "      <td>6</td>\n",
       "      <td>0.83</td>\n",
       "      <td>0.43</td>\n",
       "      <td>0.741</td>\n",
       "    </tr>\n",
       "    <tr>\n",
       "      <th>17</th>\n",
       "      <td>800</td>\n",
       "      <td>9</td>\n",
       "      <td>0.81</td>\n",
       "      <td>0.46</td>\n",
       "      <td>0.735</td>\n",
       "    </tr>\n",
       "    <tr>\n",
       "      <th>18</th>\n",
       "      <td>800</td>\n",
       "      <td>12</td>\n",
       "      <td>0.77</td>\n",
       "      <td>0.51</td>\n",
       "      <td>0.725</td>\n",
       "    </tr>\n",
       "    <tr>\n",
       "      <th>19</th>\n",
       "      <td>800</td>\n",
       "      <td>15</td>\n",
       "      <td>0.73</td>\n",
       "      <td>0.54</td>\n",
       "      <td>0.715</td>\n",
       "    </tr>\n",
       "    <tr>\n",
       "      <th>20</th>\n",
       "      <td>900</td>\n",
       "      <td>6</td>\n",
       "      <td>0.83</td>\n",
       "      <td>0.43</td>\n",
       "      <td>0.742</td>\n",
       "    </tr>\n",
       "    <tr>\n",
       "      <th>21</th>\n",
       "      <td>900</td>\n",
       "      <td>9</td>\n",
       "      <td>0.81</td>\n",
       "      <td>0.46</td>\n",
       "      <td>0.738</td>\n",
       "    </tr>\n",
       "    <tr>\n",
       "      <th>22</th>\n",
       "      <td>900</td>\n",
       "      <td>12</td>\n",
       "      <td>0.78</td>\n",
       "      <td>0.50</td>\n",
       "      <td>0.725</td>\n",
       "    </tr>\n",
       "    <tr>\n",
       "      <th>23</th>\n",
       "      <td>900</td>\n",
       "      <td>15</td>\n",
       "      <td>0.73</td>\n",
       "      <td>0.55</td>\n",
       "      <td>0.716</td>\n",
       "    </tr>\n",
       "  </tbody>\n",
       "</table>\n",
       "</div>"
      ],
      "text/plain": [
       "    nTrees  maxFeatures  Accuracy  Recall  AUC Score\n",
       "0      400            6      0.83    0.43      0.741\n",
       "1      400            9      0.80    0.47      0.733\n",
       "2      400           12      0.76    0.51      0.723\n",
       "3      400           15      0.74    0.54      0.716\n",
       "4      500            6      0.83    0.43      0.742\n",
       "5      500            9      0.82    0.45      0.737\n",
       "6      500           12      0.78    0.49      0.727\n",
       "7      500           15      0.73    0.54      0.711\n",
       "8      600            6      0.83    0.43      0.744\n",
       "9      600            9      0.81    0.46      0.736\n",
       "10     600           12      0.78    0.50      0.728\n",
       "11     600           15      0.73    0.54      0.714\n",
       "12     700            6      0.83    0.43      0.742\n",
       "13     700            9      0.81    0.46      0.735\n",
       "14     700           12      0.79    0.48      0.728\n",
       "15     700           15      0.72    0.56      0.712\n",
       "16     800            6      0.83    0.43      0.741\n",
       "17     800            9      0.81    0.46      0.735\n",
       "18     800           12      0.77    0.51      0.725\n",
       "19     800           15      0.73    0.54      0.715\n",
       "20     900            6      0.83    0.43      0.742\n",
       "21     900            9      0.81    0.46      0.738\n",
       "22     900           12      0.78    0.50      0.725\n",
       "23     900           15      0.73    0.55      0.716"
      ]
     },
     "execution_count": 21,
     "metadata": {
      "tags": []
     },
     "output_type": "execute_result"
    }
   ],
   "source": [
    "df1 = pd.DataFrame(l,columns=['nTrees','maxFeatures','Accuracy','Recall','AUC Score'])\n",
    "df1"
   ]
  },
  {
   "cell_type": "code",
   "execution_count": 0,
   "metadata": {
    "colab": {},
    "colab_type": "code",
    "id": "SRHmA2DT-aG3"
   },
   "outputs": [],
   "source": [
    "df1.to_csv('df_RF.csv', index=False)"
   ]
  },
  {
   "cell_type": "code",
   "execution_count": 0,
   "metadata": {
    "colab": {},
    "colab_type": "code",
    "id": "3_ZfG7MQICNL"
   },
   "outputs": [],
   "source": [
    "rf_clf_best = RandomForestClassifier(max_features = 12 , n_estimators= 900 )\n",
    "rf_claf_best = rf_clf_best.fit(X_train_RF,y_train_RF)"
   ]
  },
  {
   "cell_type": "code",
   "execution_count": 0,
   "metadata": {
    "colab": {
     "base_uri": "https://localhost:8080/",
     "height": 34
    },
    "colab_type": "code",
    "id": "925blG2AIQkl",
    "outputId": "3e57dc08-8cf5-49d1-8f10-72fbda7e97e7"
   },
   "outputs": [
    {
     "data": {
      "text/plain": [
       "0.6619165068055175"
      ]
     },
     "execution_count": 12,
     "metadata": {
      "tags": []
     },
     "output_type": "execute_result"
    }
   ],
   "source": [
    "y_pred_RF_best = rf_claf_best.predict(X_test_RF)\n",
    "metrics.accuracy_score(y_test_RF,y_pred_RF_best)"
   ]
  },
  {
   "cell_type": "code",
   "execution_count": 0,
   "metadata": {
    "colab": {
     "base_uri": "https://localhost:8080/",
     "height": 168
    },
    "colab_type": "code",
    "id": "rkVjLghEIX3N",
    "outputId": "f469e727-c7c6-4aca-f435-daed1a72c655"
   },
   "outputs": [
    {
     "name": "stdout",
     "output_type": "stream",
     "text": [
      "              precision    recall  f1-score   support\n",
      "\n",
      "           0       0.94      0.66      0.77      9637\n",
      "           1       0.21      0.69      0.33      1310\n",
      "\n",
      "    accuracy                           0.66     10947\n",
      "   macro avg       0.58      0.67      0.55     10947\n",
      "weighted avg       0.85      0.66      0.72     10947\n",
      "\n"
     ]
    }
   ],
   "source": [
    "print(classification_report(y_test_RF,y_pred_RF_best))"
   ]
  },
  {
   "cell_type": "code",
   "execution_count": 0,
   "metadata": {
    "colab": {
     "base_uri": "https://localhost:8080/",
     "height": 34
    },
    "colab_type": "code",
    "id": "Hum929AZwcaN",
    "outputId": "0ff55c1f-0a4b-4ef4-a5e1-0b4e87a60b7f"
   },
   "outputs": [
    {
     "name": "stdout",
     "output_type": "stream",
     "text": [
      "Area under the curve for Random Forest: ROC AUC=0.748\n"
     ]
    }
   ],
   "source": [
    "best_probs_RF = rf_claf_best.predict_proba(X_test_RF)\n",
    "print('Area under the curve for Random Forest: ROC AUC=%.3f' % (roc_auc_score(y_test_RF, best_probs_RF[:,1])))"
   ]
  },
  {
   "cell_type": "code",
   "execution_count": 0,
   "metadata": {
    "colab": {
     "base_uri": "https://localhost:8080/",
     "height": 300
    },
    "colab_type": "code",
    "id": "Nu-XAiDPwcaQ",
    "outputId": "9df19871-026c-46b6-d7cd-c4d8e0f32729"
   },
   "outputs": [
    {
     "data": {
      "image/png": "[encoded data removed]",
      "text/plain": [
       "<Figure size 432x288 with 1 Axes>"
      ]
     },
     "metadata": {
      "needs_background": "light",
      "tags": []
     },
     "output_type": "display_data"
    }
   ],
   "source": [
    "fpr, tpr, _ = roc_curve(y_test_RF, best_probs_RF[:,1])\n",
    "plt.plot(fpr, tpr, linewidth=2, label='Best',color='pink')\n",
    "plt.plot([0, 1], [0, 1],linestyle='--', label='Random',color='blue')\n",
    "plt.axis([0, 1, 0, 1])                                   \n",
    "plt.xlabel('False Positive Rate', fontsize=16)\n",
    "plt.ylabel('True Positive Rate', fontsize=16) \n",
    "plt.title('ROC for the  Random Forest')\n",
    "plt.legend()\n",
    "plt.grid(True)\n",
    "plt.show()"
   ]
  },
  {
   "cell_type": "code",
   "execution_count": 0,
   "metadata": {
    "colab": {},
    "colab_type": "code",
    "id": "KSZLp4wJwcaT",
    "outputId": "d3f2f366-c12b-42eb-f132-64ac15cc0c14"
   },
   "outputs": [
    {
     "data": {
      "text/html": [
       "<div>\n",
       "<style scoped>\n",
       "    .dataframe tbody tr th:only-of-type {\n",
       "        vertical-align: middle;\n",
       "    }\n",
       "\n",
       "    .dataframe tbody tr th {\n",
       "        vertical-align: top;\n",
       "    }\n",
       "\n",
       "    .dataframe thead th {\n",
       "        text-align: right;\n",
       "    }\n",
       "</style>\n",
       "<table border=\"1\" class=\"dataframe\">\n",
       "  <thead>\n",
       "    <tr style=\"text-align: right;\">\n",
       "      <th></th>\n",
       "      <th>importance</th>\n",
       "    </tr>\n",
       "  </thead>\n",
       "  <tbody>\n",
       "    <tr>\n",
       "      <td>WheelType_OTHER</td>\n",
       "      <td>0.103410</td>\n",
       "    </tr>\n",
       "    <tr>\n",
       "      <td>VehicleAge</td>\n",
       "      <td>0.065528</td>\n",
       "    </tr>\n",
       "    <tr>\n",
       "      <td>VehOdo</td>\n",
       "      <td>0.052716</td>\n",
       "    </tr>\n",
       "    <tr>\n",
       "      <td>MMRAcqAucAvgPrice</td>\n",
       "      <td>0.049200</td>\n",
       "    </tr>\n",
       "    <tr>\n",
       "      <td>VehBCost</td>\n",
       "      <td>0.048689</td>\n",
       "    </tr>\n",
       "    <tr>\n",
       "      <td>...</td>\n",
       "      <td>...</td>\n",
       "    </tr>\n",
       "    <tr>\n",
       "      <td>SubModel_4DSEDANLT3.5L</td>\n",
       "      <td>0.000267</td>\n",
       "    </tr>\n",
       "    <tr>\n",
       "      <td>Model_AVENGER4C</td>\n",
       "      <td>0.000243</td>\n",
       "    </tr>\n",
       "    <tr>\n",
       "      <td>Model_IMPALA3.5LV6SFI</td>\n",
       "      <td>0.000240</td>\n",
       "    </tr>\n",
       "    <tr>\n",
       "      <td>Nationality_OTHER</td>\n",
       "      <td>0.000239</td>\n",
       "    </tr>\n",
       "    <tr>\n",
       "      <td>SubModel_4DSEDANLS3.5LFFV</td>\n",
       "      <td>0.000108</td>\n",
       "    </tr>\n",
       "  </tbody>\n",
       "</table>\n",
       "<p>156 rows × 1 columns</p>\n",
       "</div>"
      ],
      "text/plain": [
       "                           importance\n",
       "WheelType_OTHER              0.103410\n",
       "VehicleAge                   0.065528\n",
       "VehOdo                       0.052716\n",
       "MMRAcqAucAvgPrice            0.049200\n",
       "VehBCost                     0.048689\n",
       "...                               ...\n",
       "SubModel_4DSEDANLT3.5L       0.000267\n",
       "Model_AVENGER4C              0.000243\n",
       "Model_IMPALA3.5LV6SFI        0.000240\n",
       "Nationality_OTHER            0.000239\n",
       "SubModel_4DSEDANLS3.5LFFV    0.000108\n",
       "\n",
       "[156 rows x 1 columns]"
      ]
     },
     "execution_count": 14,
     "metadata": {
      "tags": []
     },
     "output_type": "execute_result"
    }
   ],
   "source": [
    "feature_imp = pd.DataFrame(rf_claf.feature_importances_, index=X_train.RF.columns, columns=['importance']).sort_values('importance', ascending=False)\n",
    "feature_imp"
   ]
  },
  {
   "cell_type": "markdown",
   "metadata": {
    "colab_type": "text",
    "id": "PB9TcGNsOVf9"
   },
   "source": [
    "### GBM"
   ]
  },
  {
   "cell_type": "code",
   "execution_count": 0,
   "metadata": {
    "colab": {},
    "colab_type": "code",
    "id": "kzmSXUehOUTX"
   },
   "outputs": [],
   "source": [
    "y_train_GBM = car_train['IsBadBuy_1']\n",
    "X_train_GBM = car_train.drop(columns=['IsBadBuy_1'])\n",
    "y_test_GBM = car_test['IsBadBuy_1']\n",
    "X_test_GBM = car_test.drop(columns=['IsBadBuy_1'])"
   ]
  },
  {
   "cell_type": "code",
   "execution_count": 0,
   "metadata": {
    "colab": {},
    "colab_type": "code",
    "id": "cMjmWUw6TYmu"
   },
   "outputs": [],
   "source": [
    "gbm_clf = GradientBoostingClassifier(random_state=42)\n",
    "gbm_claf = gbm_clf.fit(X_train_GBM,y_train_GBM)"
   ]
  },
  {
   "cell_type": "code",
   "execution_count": 0,
   "metadata": {
    "colab": {
     "base_uri": "https://localhost:8080/",
     "height": 34
    },
    "colab_type": "code",
    "id": "L6l2kMiFToAh",
    "outputId": "a7cecc7e-4b5d-4c11-f1d2-be700642ac7d"
   },
   "outputs": [
    {
     "data": {
      "text/plain": [
       "0.4653329679364209"
      ]
     },
     "execution_count": 26,
     "metadata": {
      "tags": []
     },
     "output_type": "execute_result"
    }
   ],
   "source": [
    "y_pred_GBM = gbm_claf.predict(X_test_GBM)\n",
    "accuracy_score(y_test_GBM,y_pred_GBM)"
   ]
  },
  {
   "cell_type": "code",
   "execution_count": 0,
   "metadata": {
    "colab": {
     "base_uri": "https://localhost:8080/",
     "height": 168
    },
    "colab_type": "code",
    "id": "bgl6CyXoT9Ut",
    "outputId": "918205db-d20b-4b1a-cd0a-be00cb77cec7"
   },
   "outputs": [
    {
     "name": "stdout",
     "output_type": "stream",
     "text": [
      "              precision    recall  f1-score   support\n",
      "\n",
      "           0       0.93      0.42      0.58     12780\n",
      "           1       0.16      0.79      0.27      1816\n",
      "\n",
      "    accuracy                           0.47     14596\n",
      "   macro avg       0.55      0.61      0.42     14596\n",
      "weighted avg       0.84      0.47      0.54     14596\n",
      "\n"
     ]
    }
   ],
   "source": [
    "print(classification_report(y_test_GBM,y_pred_GBM))"
   ]
  },
  {
   "cell_type": "code",
   "execution_count": 0,
   "metadata": {
    "colab": {
     "base_uri": "https://localhost:8080/",
     "height": 136
    },
    "colab_type": "code",
    "id": "IT4ZHzuDUONk",
    "outputId": "08741afa-bd5a-4345-f111-76a9b8d4fa5f"
   },
   "outputs": [
    {
     "data": {
      "text/html": [
       "<div>\n",
       "<style scoped>\n",
       "    .dataframe tbody tr th:only-of-type {\n",
       "        vertical-align: middle;\n",
       "    }\n",
       "\n",
       "    .dataframe tbody tr th {\n",
       "        vertical-align: top;\n",
       "    }\n",
       "\n",
       "    .dataframe thead th {\n",
       "        text-align: right;\n",
       "    }\n",
       "</style>\n",
       "<table border=\"1\" class=\"dataframe\">\n",
       "  <thead>\n",
       "    <tr style=\"text-align: right;\">\n",
       "      <th>col_0</th>\n",
       "      <th>0</th>\n",
       "      <th>1</th>\n",
       "    </tr>\n",
       "    <tr>\n",
       "      <th>IsBadBuy</th>\n",
       "      <th></th>\n",
       "      <th></th>\n",
       "    </tr>\n",
       "  </thead>\n",
       "  <tbody>\n",
       "    <tr>\n",
       "      <th>0</th>\n",
       "      <td>5437</td>\n",
       "      <td>7343</td>\n",
       "    </tr>\n",
       "    <tr>\n",
       "      <th>1</th>\n",
       "      <td>289</td>\n",
       "      <td>1527</td>\n",
       "    </tr>\n",
       "  </tbody>\n",
       "</table>\n",
       "</div>"
      ],
      "text/plain": [
       "col_0        0     1\n",
       "IsBadBuy            \n",
       "0         5437  7343\n",
       "1          289  1527"
      ]
     },
     "execution_count": 41,
     "metadata": {
      "tags": []
     },
     "output_type": "execute_result"
    }
   ],
   "source": [
    "pd.crosstab(y_test_GBM,y_pred_GBM)"
   ]
  },
  {
   "cell_type": "code",
   "execution_count": 0,
   "metadata": {
    "colab": {
     "base_uri": "https://localhost:8080/",
     "height": 67
    },
    "colab_type": "code",
    "id": "RCpH_DYWUJYG",
    "outputId": "59567422-3f0a-4fdc-ba69-4679bb76a12a"
   },
   "outputs": [
    {
     "data": {
      "text/plain": [
       "0    21480\n",
       "1    14320\n",
       "Name: IsBadBuy, dtype: int64"
      ]
     },
     "execution_count": 49,
     "metadata": {
      "tags": []
     },
     "output_type": "execute_result"
    }
   ],
   "source": []
  },
  {
   "cell_type": "code",
   "execution_count": 0,
   "metadata": {
    "colab": {
     "base_uri": "https://localhost:8080/",
     "height": 504
    },
    "colab_type": "code",
    "id": "7N8N9aq9UrFL",
    "outputId": "305bf225-ba63-4455-f247-d37d5e2b3266"
   },
   "outputs": [
    {
     "name": "stdout",
     "output_type": "stream",
     "text": [
      "Fitting 3 folds for each of 6 candidates, totalling 18 fits\n"
     ]
    },
    {
     "name": "stderr",
     "output_type": "stream",
     "text": [
      "[Parallel(n_jobs=4)]: Using backend LokyBackend with 4 concurrent workers.\n",
      "[Parallel(n_jobs=4)]: Done  16 out of  18 | elapsed: 10.2min remaining:  1.3min\n",
      "[Parallel(n_jobs=4)]: Done  18 out of  18 | elapsed: 11.2min finished\n"
     ]
    },
    {
     "data": {
      "text/plain": [
       "GridSearchCV(cv=3, error_score=nan,\n",
       "             estimator=GradientBoostingClassifier(ccp_alpha=0.0,\n",
       "                                                  criterion='friedman_mse',\n",
       "                                                  init=None, learning_rate=0.1,\n",
       "                                                  loss='deviance', max_depth=3,\n",
       "                                                  max_features=None,\n",
       "                                                  max_leaf_nodes=None,\n",
       "                                                  min_impurity_decrease=0.0,\n",
       "                                                  min_impurity_split=None,\n",
       "                                                  min_samples_leaf=1,\n",
       "                                                  min_samples_split=2,\n",
       "                                                  min_weight_fraction_leaf=0.0,\n",
       "                                                  n_estimators=100,\n",
       "                                                  n_iter_no_c...\n",
       "                                                  presort='deprecated',\n",
       "                                                  random_state=42,\n",
       "                                                  subsample=1.0, tol=0.0001,\n",
       "                                                  validation_fraction=0.1,\n",
       "                                                  verbose=0, warm_start=False),\n",
       "             iid='deprecated', n_jobs=4,\n",
       "             param_grid={'learning_rate': [0.01], 'max_depth': [6],\n",
       "                         'max_features': [12, 13], 'min_samples_leaf': [10],\n",
       "                         'n_estimators': [1200, 1400, 1600]},\n",
       "             pre_dispatch='2*n_jobs', refit=True, return_train_score=False,\n",
       "             scoring='recall', verbose=4)"
      ]
     },
     "execution_count": 28,
     "metadata": {
      "tags": []
     },
     "output_type": "execute_result"
    }
   ],
   "source": [
    "param_grid = {'n_estimators': [1200,1400,1600],\n",
    "              'learning_rate': [0.01],\n",
    "              'max_features': [12,13],\n",
    "              'max_depth': [6],\n",
    "              'min_samples_leaf': [10]} \n",
    "\n",
    "grid_GBM = GridSearchCV(gbm_clf, param_grid, cv=3, scoring='recall',verbose=4,n_jobs=4)\n",
    "grid_GBM.fit(X_train_GBM,y_train_GBM)\n"
   ]
  },
  {
   "cell_type": "code",
   "execution_count": 0,
   "metadata": {
    "colab": {
     "base_uri": "https://localhost:8080/",
     "height": 101
    },
    "colab_type": "code",
    "id": "Jb2j7ErbXQx_",
    "outputId": "6a1d529e-14d7-4e8a-fc99-ee48fd55186d"
   },
   "outputs": [
    {
     "data": {
      "text/plain": [
       "{'learning_rate': 0.01,\n",
       " 'max_depth': 6,\n",
       " 'max_features': 13,\n",
       " 'min_samples_leaf': 10,\n",
       " 'n_estimators': 1600}"
      ]
     },
     "execution_count": 29,
     "metadata": {
      "tags": []
     },
     "output_type": "execute_result"
    }
   ],
   "source": [
    "grid_GBM.best_params_"
   ]
  },
  {
   "cell_type": "code",
   "execution_count": 0,
   "metadata": {
    "colab": {
     "base_uri": "https://localhost:8080/",
     "height": 34
    },
    "colab_type": "code",
    "id": "ICS6R5JFrsvD",
    "outputId": "174fd109-5453-4900-983e-17126af6cab5"
   },
   "outputs": [
    {
     "data": {
      "text/plain": [
       "0.5836838143664851"
      ]
     },
     "execution_count": 84,
     "metadata": {
      "tags": []
     },
     "output_type": "execute_result"
    }
   ],
   "source": [
    "grid_GBM.best_score_"
   ]
  },
  {
   "cell_type": "code",
   "execution_count": 0,
   "metadata": {
    "colab": {},
    "colab_type": "code",
    "id": "40ht37gJrwed"
   },
   "outputs": [],
   "source": [
    "gbm_clf_best = GradientBoostingClassifier(random_state=42,learning_rate=0.01,max_depth=8,max_features=13,min_samples_leaf=10,n_estimators=1500)\n",
    "gbm_claf_best = gbm_clf_best.fit(X_train_GBM,y_train_GBM)"
   ]
  },
  {
   "cell_type": "code",
   "execution_count": 0,
   "metadata": {
    "colab": {
     "base_uri": "https://localhost:8080/",
     "height": 34
    },
    "colab_type": "code",
    "id": "4FY5R2uhw12Q",
    "outputId": "be045d27-815f-4d70-b210-f4ad7e544d22"
   },
   "outputs": [
    {
     "data": {
      "text/plain": [
       "0.7504795834475199"
      ]
     },
     "execution_count": 43,
     "metadata": {
      "tags": []
     },
     "output_type": "execute_result"
    }
   ],
   "source": [
    "y_pred_GBM_best = gbm_claf_best.predict(X_test_GBM)\n",
    "accuracy_score(y_test_GBM,y_pred_GBM_best)"
   ]
  },
  {
   "cell_type": "code",
   "execution_count": 0,
   "metadata": {
    "colab": {
     "base_uri": "https://localhost:8080/",
     "height": 168
    },
    "colab_type": "code",
    "id": "ArUP9v9MxEti",
    "outputId": "a469a76b-a856-4915-a359-485a6c13008f"
   },
   "outputs": [
    {
     "name": "stdout",
     "output_type": "stream",
     "text": [
      "              precision    recall  f1-score   support\n",
      "\n",
      "           0       0.92      0.78      0.85     12780\n",
      "           1       0.26      0.54      0.35      1816\n",
      "\n",
      "    accuracy                           0.75     14596\n",
      "   macro avg       0.59      0.66      0.60     14596\n",
      "weighted avg       0.84      0.75      0.78     14596\n",
      "\n"
     ]
    }
   ],
   "source": [
    "print(classification_report(y_test_GBM,y_pred_GBM_best))"
   ]
  },
  {
   "cell_type": "code",
   "execution_count": 0,
   "metadata": {
    "colab": {
     "base_uri": "https://localhost:8080/",
     "height": 136
    },
    "colab_type": "code",
    "id": "rQS64zhTxR_R",
    "outputId": "1736c27b-23ed-41bf-8634-ab89eb26ffad"
   },
   "outputs": [
    {
     "data": {
      "text/html": [
       "<div>\n",
       "<style scoped>\n",
       "    .dataframe tbody tr th:only-of-type {\n",
       "        vertical-align: middle;\n",
       "    }\n",
       "\n",
       "    .dataframe tbody tr th {\n",
       "        vertical-align: top;\n",
       "    }\n",
       "\n",
       "    .dataframe thead th {\n",
       "        text-align: right;\n",
       "    }\n",
       "</style>\n",
       "<table border=\"1\" class=\"dataframe\">\n",
       "  <thead>\n",
       "    <tr style=\"text-align: right;\">\n",
       "      <th>col_0</th>\n",
       "      <th>0</th>\n",
       "      <th>1</th>\n",
       "    </tr>\n",
       "    <tr>\n",
       "      <th>IsBadBuy_1</th>\n",
       "      <th></th>\n",
       "      <th></th>\n",
       "    </tr>\n",
       "  </thead>\n",
       "  <tbody>\n",
       "    <tr>\n",
       "      <th>0</th>\n",
       "      <td>10806</td>\n",
       "      <td>1974</td>\n",
       "    </tr>\n",
       "    <tr>\n",
       "      <th>1</th>\n",
       "      <td>973</td>\n",
       "      <td>843</td>\n",
       "    </tr>\n",
       "  </tbody>\n",
       "</table>\n",
       "</div>"
      ],
      "text/plain": [
       "col_0           0     1\n",
       "IsBadBuy_1             \n",
       "0           10806  1974\n",
       "1             973   843"
      ]
     },
     "execution_count": 33,
     "metadata": {
      "tags": []
     },
     "output_type": "execute_result"
    }
   ],
   "source": [
    "pd.crosstab(y_test_GBM,y_pred_GBM_best)"
   ]
  },
  {
   "cell_type": "code",
   "execution_count": 0,
   "metadata": {
    "colab": {
     "base_uri": "https://localhost:8080/",
     "height": 286
    },
    "colab_type": "code",
    "id": "l4zZqL7dx8Eh",
    "outputId": "04d5ce8f-fc4a-426c-c049-ef9dff602e1a"
   },
   "outputs": [
    {
     "data": {
      "text/plain": [
       "[[800, 5, 0.01, 10, 0.84, 0.36, 0.732],\n",
       " [800, 6, 0.01, 10, 0.84, 0.39, 0.736],\n",
       " [800, 7, 0.01, 10, 0.83, 0.41, 0.736],\n",
       " [800, 8, 0.01, 10, 0.82, 0.44, 0.739],\n",
       " [1000, 5, 0.01, 10, 0.84, 0.38, 0.734],\n",
       " [1000, 6, 0.01, 10, 0.83, 0.4, 0.737],\n",
       " [1000, 7, 0.01, 10, 0.8, 0.46, 0.735],\n",
       " [1000, 8, 0.01, 10, 0.79, 0.49, 0.737],\n",
       " [1200, 5, 0.01, 10, 0.83, 0.4, 0.733],\n",
       " [1200, 6, 0.01, 10, 0.82, 0.43, 0.738],\n",
       " [1200, 7, 0.01, 10, 0.8, 0.45, 0.738],\n",
       " [1200, 8, 0.01, 10, 0.78, 0.5, 0.738],\n",
       " [1400, 5, 0.01, 10, 0.81, 0.43, 0.731],\n",
       " [1400, 6, 0.01, 10, 0.81, 0.45, 0.735],\n",
       " [1400, 7, 0.01, 10, 0.78, 0.5, 0.736],\n",
       " [1400, 8, 0.01, 10, 0.77, 0.51, 0.739]]"
      ]
     },
     "execution_count": 34,
     "metadata": {
      "tags": []
     },
     "output_type": "execute_result"
    }
   ],
   "source": [
    "neighbors = [800,1000,1200,1400]\n",
    "maxdepth = [5,6,7,8]\n",
    "g = []\n",
    "for i in neighbors:\n",
    "  for j in maxdepth:\n",
    "    gbm_clf_best = GradientBoostingClassifier(learning_rate=0.01,max_depth=j,max_features=13,\n",
    "                                              min_samples_leaf=10,n_estimators=i)\n",
    "    gbm_claf_best = gbm_clf_best.fit(X_train_GBM,y_train_GBM)\n",
    "    y_pred_GBM_best = gbm_claf_best.predict(X_test_GBM)\n",
    "    best_probs_GBM = gbm_claf_best.predict_proba(X_test_GBM)\n",
    "    g.append([i,j,0.01,10,round(accuracy_score(y_test_GBM,y_pred_GBM_best),2),round(recall_score(y_test_GBM,y_pred_GBM_best),2),\n",
    "              round(roc_auc_score(y_test_GBM , best_probs_GBM[:,1]),3)])\n",
    "  \n",
    "g"
   ]
  },
  {
   "cell_type": "code",
   "execution_count": 0,
   "metadata": {
    "colab": {},
    "colab_type": "code",
    "id": "F9tjkasFMASe"
   },
   "outputs": [],
   "source": [
    "df_GBM = pd.DataFrame(g,columns=['nTrees','maxdepth','learning Rate','min_samples_leaf','Accuracy','Recall','AUC Score'])\n",
    "df_GBM.to_csv('df_GBM.csv', index=False)"
   ]
  },
  {
   "cell_type": "code",
   "execution_count": 0,
   "metadata": {
    "colab": {
     "base_uri": "https://localhost:8080/",
     "height": 521
    },
    "colab_type": "code",
    "id": "O6iSLIlSevwJ",
    "outputId": "5105edbb-3e56-4e64-ba4a-b584c6625dcc"
   },
   "outputs": [
    {
     "data": {
      "text/html": [
       "<div>\n",
       "<style scoped>\n",
       "    .dataframe tbody tr th:only-of-type {\n",
       "        vertical-align: middle;\n",
       "    }\n",
       "\n",
       "    .dataframe tbody tr th {\n",
       "        vertical-align: top;\n",
       "    }\n",
       "\n",
       "    .dataframe thead th {\n",
       "        text-align: right;\n",
       "    }\n",
       "</style>\n",
       "<table border=\"1\" class=\"dataframe\">\n",
       "  <thead>\n",
       "    <tr style=\"text-align: right;\">\n",
       "      <th></th>\n",
       "      <th>nTrees</th>\n",
       "      <th>maxdepth</th>\n",
       "      <th>learning Rate</th>\n",
       "      <th>min_samples_leaf</th>\n",
       "      <th>Accuracy</th>\n",
       "      <th>Recall</th>\n",
       "      <th>AUC Score</th>\n",
       "    </tr>\n",
       "  </thead>\n",
       "  <tbody>\n",
       "    <tr>\n",
       "      <th>0</th>\n",
       "      <td>800</td>\n",
       "      <td>5</td>\n",
       "      <td>0.01</td>\n",
       "      <td>10</td>\n",
       "      <td>0.84</td>\n",
       "      <td>0.36</td>\n",
       "      <td>0.732</td>\n",
       "    </tr>\n",
       "    <tr>\n",
       "      <th>1</th>\n",
       "      <td>800</td>\n",
       "      <td>6</td>\n",
       "      <td>0.01</td>\n",
       "      <td>10</td>\n",
       "      <td>0.84</td>\n",
       "      <td>0.39</td>\n",
       "      <td>0.736</td>\n",
       "    </tr>\n",
       "    <tr>\n",
       "      <th>2</th>\n",
       "      <td>800</td>\n",
       "      <td>7</td>\n",
       "      <td>0.01</td>\n",
       "      <td>10</td>\n",
       "      <td>0.83</td>\n",
       "      <td>0.41</td>\n",
       "      <td>0.736</td>\n",
       "    </tr>\n",
       "    <tr>\n",
       "      <th>3</th>\n",
       "      <td>800</td>\n",
       "      <td>8</td>\n",
       "      <td>0.01</td>\n",
       "      <td>10</td>\n",
       "      <td>0.82</td>\n",
       "      <td>0.44</td>\n",
       "      <td>0.739</td>\n",
       "    </tr>\n",
       "    <tr>\n",
       "      <th>4</th>\n",
       "      <td>1000</td>\n",
       "      <td>5</td>\n",
       "      <td>0.01</td>\n",
       "      <td>10</td>\n",
       "      <td>0.84</td>\n",
       "      <td>0.38</td>\n",
       "      <td>0.734</td>\n",
       "    </tr>\n",
       "    <tr>\n",
       "      <th>5</th>\n",
       "      <td>1000</td>\n",
       "      <td>6</td>\n",
       "      <td>0.01</td>\n",
       "      <td>10</td>\n",
       "      <td>0.83</td>\n",
       "      <td>0.40</td>\n",
       "      <td>0.737</td>\n",
       "    </tr>\n",
       "    <tr>\n",
       "      <th>6</th>\n",
       "      <td>1000</td>\n",
       "      <td>7</td>\n",
       "      <td>0.01</td>\n",
       "      <td>10</td>\n",
       "      <td>0.80</td>\n",
       "      <td>0.46</td>\n",
       "      <td>0.735</td>\n",
       "    </tr>\n",
       "    <tr>\n",
       "      <th>7</th>\n",
       "      <td>1000</td>\n",
       "      <td>8</td>\n",
       "      <td>0.01</td>\n",
       "      <td>10</td>\n",
       "      <td>0.79</td>\n",
       "      <td>0.49</td>\n",
       "      <td>0.737</td>\n",
       "    </tr>\n",
       "    <tr>\n",
       "      <th>8</th>\n",
       "      <td>1200</td>\n",
       "      <td>5</td>\n",
       "      <td>0.01</td>\n",
       "      <td>10</td>\n",
       "      <td>0.83</td>\n",
       "      <td>0.40</td>\n",
       "      <td>0.733</td>\n",
       "    </tr>\n",
       "    <tr>\n",
       "      <th>9</th>\n",
       "      <td>1200</td>\n",
       "      <td>6</td>\n",
       "      <td>0.01</td>\n",
       "      <td>10</td>\n",
       "      <td>0.82</td>\n",
       "      <td>0.43</td>\n",
       "      <td>0.738</td>\n",
       "    </tr>\n",
       "    <tr>\n",
       "      <th>10</th>\n",
       "      <td>1200</td>\n",
       "      <td>7</td>\n",
       "      <td>0.01</td>\n",
       "      <td>10</td>\n",
       "      <td>0.80</td>\n",
       "      <td>0.45</td>\n",
       "      <td>0.738</td>\n",
       "    </tr>\n",
       "    <tr>\n",
       "      <th>11</th>\n",
       "      <td>1200</td>\n",
       "      <td>8</td>\n",
       "      <td>0.01</td>\n",
       "      <td>10</td>\n",
       "      <td>0.78</td>\n",
       "      <td>0.50</td>\n",
       "      <td>0.738</td>\n",
       "    </tr>\n",
       "    <tr>\n",
       "      <th>12</th>\n",
       "      <td>1400</td>\n",
       "      <td>5</td>\n",
       "      <td>0.01</td>\n",
       "      <td>10</td>\n",
       "      <td>0.81</td>\n",
       "      <td>0.43</td>\n",
       "      <td>0.731</td>\n",
       "    </tr>\n",
       "    <tr>\n",
       "      <th>13</th>\n",
       "      <td>1400</td>\n",
       "      <td>6</td>\n",
       "      <td>0.01</td>\n",
       "      <td>10</td>\n",
       "      <td>0.81</td>\n",
       "      <td>0.45</td>\n",
       "      <td>0.735</td>\n",
       "    </tr>\n",
       "    <tr>\n",
       "      <th>14</th>\n",
       "      <td>1400</td>\n",
       "      <td>7</td>\n",
       "      <td>0.01</td>\n",
       "      <td>10</td>\n",
       "      <td>0.78</td>\n",
       "      <td>0.50</td>\n",
       "      <td>0.736</td>\n",
       "    </tr>\n",
       "    <tr>\n",
       "      <th>15</th>\n",
       "      <td>1400</td>\n",
       "      <td>8</td>\n",
       "      <td>0.01</td>\n",
       "      <td>10</td>\n",
       "      <td>0.77</td>\n",
       "      <td>0.51</td>\n",
       "      <td>0.739</td>\n",
       "    </tr>\n",
       "  </tbody>\n",
       "</table>\n",
       "</div>"
      ],
      "text/plain": [
       "    nTrees  maxdepth  learning Rate  ...  Accuracy  Recall  AUC Score\n",
       "0      800         5           0.01  ...      0.84    0.36      0.732\n",
       "1      800         6           0.01  ...      0.84    0.39      0.736\n",
       "2      800         7           0.01  ...      0.83    0.41      0.736\n",
       "3      800         8           0.01  ...      0.82    0.44      0.739\n",
       "4     1000         5           0.01  ...      0.84    0.38      0.734\n",
       "5     1000         6           0.01  ...      0.83    0.40      0.737\n",
       "6     1000         7           0.01  ...      0.80    0.46      0.735\n",
       "7     1000         8           0.01  ...      0.79    0.49      0.737\n",
       "8     1200         5           0.01  ...      0.83    0.40      0.733\n",
       "9     1200         6           0.01  ...      0.82    0.43      0.738\n",
       "10    1200         7           0.01  ...      0.80    0.45      0.738\n",
       "11    1200         8           0.01  ...      0.78    0.50      0.738\n",
       "12    1400         5           0.01  ...      0.81    0.43      0.731\n",
       "13    1400         6           0.01  ...      0.81    0.45      0.735\n",
       "14    1400         7           0.01  ...      0.78    0.50      0.736\n",
       "15    1400         8           0.01  ...      0.77    0.51      0.739\n",
       "\n",
       "[16 rows x 7 columns]"
      ]
     },
     "execution_count": 36,
     "metadata": {
      "tags": []
     },
     "output_type": "execute_result"
    }
   ],
   "source": [
    "df_GBM"
   ]
  },
  {
   "cell_type": "markdown",
   "metadata": {
    "colab_type": "text",
    "id": "k1gwQ3mkY6fC"
   },
   "source": [
    "### KNN"
   ]
  },
  {
   "cell_type": "code",
   "execution_count": 6,
   "metadata": {
    "colab": {},
    "colab_type": "code",
    "id": "EaIasWVwgY5T"
   },
   "outputs": [],
   "source": [
    "y_train_KNN = car_train['IsBadBuy_1']\n",
    "X_train_KNN = car_train.drop(columns=['IsBadBuy_1'])\n",
    "y_test_KNN = car_test['IsBadBuy_1']\n",
    "X_test_KNN = car_test.drop(columns=['IsBadBuy_1'])"
   ]
  },
  {
   "cell_type": "code",
   "execution_count": 7,
   "metadata": {
    "colab": {},
    "colab_type": "code",
    "id": "M9S4FtbJbcDz"
   },
   "outputs": [],
   "source": [
    "classifier = KNeighborsClassifier()\n",
    "clf = classifier.fit(X_train_KNN, y_train_KNN)"
   ]
  },
  {
   "cell_type": "code",
   "execution_count": 8,
   "metadata": {
    "colab": {
     "base_uri": "https://localhost:8080/",
     "height": 34
    },
    "colab_type": "code",
    "id": "eFCNXqbFbuUm",
    "outputId": "6c36caa5-eabd-46a7-e216-fa557b2c6144"
   },
   "outputs": [
    {
     "data": {
      "text/plain": [
       "0.6258335617064036"
      ]
     },
     "execution_count": 8,
     "metadata": {},
     "output_type": "execute_result"
    }
   ],
   "source": [
    "y_pred_KNN = clf.predict(X_test_KNN) \n",
    "metrics.accuracy_score(y_test_KNN, y_pred_KNN)"
   ]
  },
  {
   "cell_type": "code",
   "execution_count": 0,
   "metadata": {
    "colab": {
     "base_uri": "https://localhost:8080/",
     "height": 168
    },
    "colab_type": "code",
    "id": "JAhQLkb9byIu",
    "outputId": "f79fb208-8513-4327-bcca-231a26f6d471"
   },
   "outputs": [
    {
     "name": "stdout",
     "output_type": "stream",
     "text": [
      "              precision    recall  f1-score   support\n",
      "\n",
      "           0       0.90      0.89      0.90     12780\n",
      "           1       0.29      0.31      0.30      1816\n",
      "\n",
      "    accuracy                           0.82     14596\n",
      "   macro avg       0.60      0.60      0.60     14596\n",
      "weighted avg       0.82      0.82      0.82     14596\n",
      "\n"
     ]
    }
   ],
   "source": [
    "print(classification_report(y_test_KNN, y_pred_KNN))"
   ]
  },
  {
   "cell_type": "code",
   "execution_count": 10,
   "metadata": {
    "colab": {},
    "colab_type": "code",
    "id": "WT6iF2zecLTz"
   },
   "outputs": [],
   "source": [
    "param_grid = {'n_neighbors': list(range(21,41))} \n",
    "\n",
    "grid_KNN = GridSearchCV(classifier, param_grid, cv=4, scoring='accuracy',verbose=4)\n",
    "grid_KNN.fit(X_train_KNN, y_train_KNN)"
   ]
  },
  {
   "cell_type": "code",
   "execution_count": 0,
   "metadata": {
    "colab": {
     "base_uri": "https://localhost:8080/",
     "height": 34
    },
    "colab_type": "code",
    "id": "5LxPDJsLdZeH",
    "outputId": "32516d3e-0758-43e1-f040-bc23da697132"
   },
   "outputs": [
    {
     "data": {
      "text/plain": [
       "{'n_neighbors': 21}"
      ]
     },
     "execution_count": 24,
     "metadata": {
      "tags": []
     },
     "output_type": "execute_result"
    }
   ],
   "source": [
    "grid_KNN.best_params_"
   ]
  },
  {
   "cell_type": "code",
   "execution_count": 0,
   "metadata": {
    "colab": {
     "base_uri": "https://localhost:8080/",
     "height": 34
    },
    "colab_type": "code",
    "id": "K6W7f7XaddJW",
    "outputId": "1c773019-08dd-4088-9af9-d26cbe79525f"
   },
   "outputs": [
    {
     "data": {
      "text/plain": [
       "0.3645949720670391"
      ]
     },
     "execution_count": 25,
     "metadata": {
      "tags": []
     },
     "output_type": "execute_result"
    }
   ],
   "source": [
    "grid_KNN.best_score_"
   ]
  },
  {
   "cell_type": "code",
   "execution_count": 0,
   "metadata": {
    "colab": {},
    "colab_type": "code",
    "id": "vZfLhdFom2XQ"
   },
   "outputs": [],
   "source": [
    "classifier_best = KNeighborsClassifier(n_neighbors=21)\n",
    "clf_best = classifier_best.fit(X_train_KNN, y_train_KNN)"
   ]
  },
  {
   "cell_type": "code",
   "execution_count": 0,
   "metadata": {
    "colab": {
     "base_uri": "https://localhost:8080/",
     "height": 34
    },
    "colab_type": "code",
    "id": "pO_2tOXK6-dj",
    "outputId": "cc80b9ce-884a-4483-e761-a04048cab07a"
   },
   "outputs": [
    {
     "data": {
      "text/plain": [
       "0.8653740750890655"
      ]
     },
     "execution_count": 27,
     "metadata": {
      "tags": []
     },
     "output_type": "execute_result"
    }
   ],
   "source": [
    "y_pred_KNN_best = clf_best.predict(X_test_KNN) \n",
    "accuracy_score(y_test_KNN, y_pred_KNN_best)"
   ]
  },
  {
   "cell_type": "code",
   "execution_count": 0,
   "metadata": {
    "colab": {
     "base_uri": "https://localhost:8080/",
     "height": 168
    },
    "colab_type": "code",
    "id": "Fg_J606U7H2s",
    "outputId": "e0bc53b8-f730-44a7-9c7c-cd0fdd261c02"
   },
   "outputs": [
    {
     "name": "stdout",
     "output_type": "stream",
     "text": [
      "              precision    recall  f1-score   support\n",
      "\n",
      "           0       0.96      0.89      0.93     13755\n",
      "           1       0.19      0.41      0.26       841\n",
      "\n",
      "    accuracy                           0.87     14596\n",
      "   macro avg       0.58      0.65      0.59     14596\n",
      "weighted avg       0.92      0.87      0.89     14596\n",
      "\n"
     ]
    }
   ],
   "source": [
    "print(classification_report(y_pred_KNN_best,y_test_KNN))"
   ]
  },
  {
   "cell_type": "code",
   "execution_count": 0,
   "metadata": {
    "colab": {},
    "colab_type": "code",
    "id": "ickrOpMc8TRt"
   },
   "outputs": [],
   "source": [
    "neighbors = list(range(21,40))\n",
    "k = []\n",
    "for i in neighbors:\n",
    "    classifier_best = KNeighborsClassifier(n_neighbors=21)\n",
    "    clf_best = classifier_best.fit(X_train_KNN, y_train_KNN)\n",
    "    y_pred_KNN_best = clf_best.predict(X_test_KNN) \n",
    "    best_probs_KNN = clf_best.predict_proba(X_test_KNN)\n",
    "    print(i)\n",
    "    k.append([i,round(accuracy_score(y_test_KNN, y_pred_KNN_best),3),round(recall_score(y_pred_KNN_best,y_test_KNN),3),\n",
    "              round(roc_auc_score(y_test_KNN , best_probs_KNN[:,1]),3)])\n",
    "  \n",
    "k"
   ]
  },
  {
   "cell_type": "code",
   "execution_count": 0,
   "metadata": {
    "colab": {},
    "colab_type": "code",
    "id": "cFc5bz0Xfjby"
   },
   "outputs": [],
   "source": [
    "df_KNN = pd.DataFrame(k,columns=['Neighbors','Accuracy','Recall','AUC'])"
   ]
  },
  {
   "cell_type": "code",
   "execution_count": 0,
   "metadata": {
    "colab": {},
    "colab_type": "code",
    "id": "waUaM01OsyWp"
   },
   "outputs": [],
   "source": [
    "df_KNN.to_csv('df_KNN.csv',index=False)"
   ]
  },
  {
   "cell_type": "code",
   "execution_count": 0,
   "metadata": {
    "colab": {},
    "colab_type": "code",
    "id": "Dj__egGDs-3m"
   },
   "outputs": [],
   "source": [
    "Final = pd.DataFrame(list(zip(y_pred_KNN_best,y_pred_RF_best,y_pred_GBM_best)),\n",
    "                     columns=['KNN','RF','GBM'])"
   ]
  },
  {
   "cell_type": "code",
   "execution_count": 0,
   "metadata": {
    "colab": {},
    "colab_type": "code",
    "id": "rJ1od4KgDasD"
   },
   "outputs": [],
   "source": [
    "Final.to_excel('FinalPredict.xlsx',index=False)"
   ]
  },
  {
   "cell_type": "code",
   "execution_count": 0,
   "metadata": {
    "colab": {},
    "colab_type": "code",
    "id": "l_dE9lgMDta2"
   },
   "outputs": [],
   "source": []
  }
 ],
 "metadata": {
  "colab": {
   "name": "Untitled.ipynb",
   "provenance": [],
   "toc_visible": true
  },
  "kernelspec": {
   "display_name": "Python 3",
   "language": "python",
   "name": "python3"
  },
  "language_info": {
   "codemirror_mode": {
    "name": "ipython",
    "version": 3
   },
   "file_extension": ".py",
   "mimetype": "text/x-python",
   "name": "python",
   "nbconvert_exporter": "python",
   "pygments_lexer": "ipython3",
   "version": "3.7.4"
  }
 },
 "nbformat": 4,
 "nbformat_minor": 1
}
